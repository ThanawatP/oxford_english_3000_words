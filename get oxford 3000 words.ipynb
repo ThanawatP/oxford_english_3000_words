{
 "cells": [
  {
   "cell_type": "code",
   "execution_count": null,
   "metadata": {},
   "outputs": [],
   "source": [
    "from bs4 import BeautifulSoup\n",
    "import requests\n",
    "from selenium import webdriver\n",
    "import time\n",
    "import csv"
   ]
  },
  {
   "cell_type": "code",
   "execution_count": null,
   "metadata": {},
   "outputs": [],
   "source": [
    "with open('oxford3000_links.txt', 'r') as f:\n",
    "    alphabet_links = []\n",
    "    for line in f:\n",
    "        alphabet_links.append(line.strip())\n",
    "    print(alphabet_links)"
   ]
  },
  {
   "cell_type": "code",
   "execution_count": null,
   "metadata": {},
   "outputs": [],
   "source": [
    "alphabet_links[0]"
   ]
  },
  {
   "cell_type": "code",
   "execution_count": null,
   "metadata": {},
   "outputs": [],
   "source": [
    "def get_next_page(driver):\n",
    "    return driver.find_elements_by_css_selector('div#entrylist1 + div#paging ul.paging_links li a')"
   ]
  },
  {
   "cell_type": "code",
   "execution_count": null,
   "metadata": {},
   "outputs": [],
   "source": [
    "def get_words(driver, words_dict):\n",
    "    word_list = driver.find_elements_by_css_selector(\"ul.wordlist-oxford3000 li a\")\n",
    "    for word in word_list:\n",
    "        words_dict[word.text] = word.get_attribute('href')"
   ]
  },
  {
   "cell_type": "code",
   "execution_count": null,
   "metadata": {},
   "outputs": [],
   "source": [
    "def get_current_page(driver):\n",
    "    current_page = driver.find_element_by_css_selector(\"ul.paging_links li.activepage\")\n",
    "    return current_page.text"
   ]
  },
  {
   "cell_type": "code",
   "execution_count": null,
   "metadata": {},
   "outputs": [],
   "source": [
    "words_dict = {}"
   ]
  },
  {
   "cell_type": "code",
   "execution_count": null,
   "metadata": {},
   "outputs": [],
   "source": [
    "for url in alphabet_links:\n",
    "    driver = webdriver.Chrome(executable_path=\"D:/work/wokspace_python/chromedriver_win32/chromedriver\")\n",
    "    print(url)\n",
    "    driver.get(url)\n",
    "    while True:\n",
    "        current_page = get_current_page(driver)\n",
    "        get_words(driver, words_dict)\n",
    "        print('current page:', current_page, 'current words count', len(words_dict))\n",
    "        next_pages = get_next_page(driver)\n",
    "        if len(next_pages) != 0 and next_pages[-1].text == \">\":\n",
    "            next_pages[-1].click()\n",
    "        else:\n",
    "            break\n",
    "    driver.close()\n",
    "    print('=======')\n",
    "    time.sleep(3)"
   ]
  },
  {
   "cell_type": "code",
   "execution_count": null,
   "metadata": {},
   "outputs": [],
   "source": [
    "with open('oxford3000_words.csv', 'w', newline='') as f:\n",
    "    writer = csv.writer(f)\n",
    "    writer.writerow(['word', 'link'])\n",
    "    for word, link in words_dict.items():\n",
    "        writer.writerow([word, link])"
   ]
  }
 ],
 "metadata": {
  "kernelspec": {
   "display_name": "Python 3",
   "language": "python",
   "name": "python3"
  },
  "language_info": {
   "codemirror_mode": {
    "name": "ipython",
    "version": 3
   },
   "file_extension": ".py",
   "mimetype": "text/x-python",
   "name": "python",
   "nbconvert_exporter": "python",
   "pygments_lexer": "ipython3",
   "version": "3.6.5"
  }
 },
 "nbformat": 4,
 "nbformat_minor": 2
}
